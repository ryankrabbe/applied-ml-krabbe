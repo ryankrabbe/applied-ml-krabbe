{
 "cells": [
  {
   "cell_type": "markdown",
   "metadata": {},
   "source": [
    "# Ryan's Lab 4 Project\n",
    "**Author:** Ryan Krabbe  \n",
    "**Date:** 4/02/2025\n",
    "\n",
    "**Objective:** Use the Titantic dataset to predict `fare` using different regression models.\n"
   ]
  },
  {
   "cell_type": "markdown",
   "metadata": {},
   "source": [
    "## Introduction\n",
    "This project uses the Titantic dataset to predict `fare` based on different features such as `age`, `sex`, `pclass` and `family_size`. In this project, I'll incorporate different machine models and techniques to predict passenger fare."
   ]
  },
  {
   "cell_type": "markdown",
   "metadata": {},
   "source": [
    "## Imports\n",
    "In the code cell below, import the necessary Python libraries for this notebook.  "
   ]
  },
  {
   "cell_type": "code",
   "execution_count": 141,
   "metadata": {},
   "outputs": [],
   "source": [
    "import seaborn as sns\n",
    "import pandas as pd\n",
    "import numpy as np\n",
    "import matplotlib.pyplot as plt\n",
    "\n",
    "from sklearn.model_selection import train_test_split\n",
    "from sklearn.linear_model import LinearRegression, Ridge, ElasticNet\n",
    "from sklearn.preprocessing import PolynomialFeatures\n",
    "from sklearn.metrics import mean_squared_error, mean_absolute_error, r2_score"
   ]
  },
  {
   "cell_type": "markdown",
   "metadata": {},
   "source": [
    "## Section 1. Import and Inspect the Data\n",
    "\n",
    "### Load the Titanic dataset and confirm it’s structured correctly"
   ]
  },
  {
   "cell_type": "code",
   "execution_count": 142,
   "metadata": {},
   "outputs": [
    {
     "data": {
      "text/html": [
       "<div>\n",
       "<style scoped>\n",
       "    .dataframe tbody tr th:only-of-type {\n",
       "        vertical-align: middle;\n",
       "    }\n",
       "\n",
       "    .dataframe tbody tr th {\n",
       "        vertical-align: top;\n",
       "    }\n",
       "\n",
       "    .dataframe thead th {\n",
       "        text-align: right;\n",
       "    }\n",
       "</style>\n",
       "<table border=\"1\" class=\"dataframe\">\n",
       "  <thead>\n",
       "    <tr style=\"text-align: right;\">\n",
       "      <th></th>\n",
       "      <th>survived</th>\n",
       "      <th>pclass</th>\n",
       "      <th>sex</th>\n",
       "      <th>age</th>\n",
       "      <th>sibsp</th>\n",
       "      <th>parch</th>\n",
       "      <th>fare</th>\n",
       "      <th>embarked</th>\n",
       "      <th>class</th>\n",
       "      <th>who</th>\n",
       "      <th>adult_male</th>\n",
       "      <th>deck</th>\n",
       "      <th>embark_town</th>\n",
       "      <th>alive</th>\n",
       "      <th>alone</th>\n",
       "    </tr>\n",
       "  </thead>\n",
       "  <tbody>\n",
       "    <tr>\n",
       "      <th>0</th>\n",
       "      <td>0</td>\n",
       "      <td>3</td>\n",
       "      <td>male</td>\n",
       "      <td>22.0</td>\n",
       "      <td>1</td>\n",
       "      <td>0</td>\n",
       "      <td>7.2500</td>\n",
       "      <td>S</td>\n",
       "      <td>Third</td>\n",
       "      <td>man</td>\n",
       "      <td>True</td>\n",
       "      <td>NaN</td>\n",
       "      <td>Southampton</td>\n",
       "      <td>no</td>\n",
       "      <td>False</td>\n",
       "    </tr>\n",
       "    <tr>\n",
       "      <th>1</th>\n",
       "      <td>1</td>\n",
       "      <td>1</td>\n",
       "      <td>female</td>\n",
       "      <td>38.0</td>\n",
       "      <td>1</td>\n",
       "      <td>0</td>\n",
       "      <td>71.2833</td>\n",
       "      <td>C</td>\n",
       "      <td>First</td>\n",
       "      <td>woman</td>\n",
       "      <td>False</td>\n",
       "      <td>C</td>\n",
       "      <td>Cherbourg</td>\n",
       "      <td>yes</td>\n",
       "      <td>False</td>\n",
       "    </tr>\n",
       "    <tr>\n",
       "      <th>2</th>\n",
       "      <td>1</td>\n",
       "      <td>3</td>\n",
       "      <td>female</td>\n",
       "      <td>26.0</td>\n",
       "      <td>0</td>\n",
       "      <td>0</td>\n",
       "      <td>7.9250</td>\n",
       "      <td>S</td>\n",
       "      <td>Third</td>\n",
       "      <td>woman</td>\n",
       "      <td>False</td>\n",
       "      <td>NaN</td>\n",
       "      <td>Southampton</td>\n",
       "      <td>yes</td>\n",
       "      <td>True</td>\n",
       "    </tr>\n",
       "    <tr>\n",
       "      <th>3</th>\n",
       "      <td>1</td>\n",
       "      <td>1</td>\n",
       "      <td>female</td>\n",
       "      <td>35.0</td>\n",
       "      <td>1</td>\n",
       "      <td>0</td>\n",
       "      <td>53.1000</td>\n",
       "      <td>S</td>\n",
       "      <td>First</td>\n",
       "      <td>woman</td>\n",
       "      <td>False</td>\n",
       "      <td>C</td>\n",
       "      <td>Southampton</td>\n",
       "      <td>yes</td>\n",
       "      <td>False</td>\n",
       "    </tr>\n",
       "    <tr>\n",
       "      <th>4</th>\n",
       "      <td>0</td>\n",
       "      <td>3</td>\n",
       "      <td>male</td>\n",
       "      <td>35.0</td>\n",
       "      <td>0</td>\n",
       "      <td>0</td>\n",
       "      <td>8.0500</td>\n",
       "      <td>S</td>\n",
       "      <td>Third</td>\n",
       "      <td>man</td>\n",
       "      <td>True</td>\n",
       "      <td>NaN</td>\n",
       "      <td>Southampton</td>\n",
       "      <td>no</td>\n",
       "      <td>True</td>\n",
       "    </tr>\n",
       "  </tbody>\n",
       "</table>\n",
       "</div>"
      ],
      "text/plain": [
       "   survived  pclass     sex   age  sibsp  parch     fare embarked  class  \\\n",
       "0         0       3    male  22.0      1      0   7.2500        S  Third   \n",
       "1         1       1  female  38.0      1      0  71.2833        C  First   \n",
       "2         1       3  female  26.0      0      0   7.9250        S  Third   \n",
       "3         1       1  female  35.0      1      0  53.1000        S  First   \n",
       "4         0       3    male  35.0      0      0   8.0500        S  Third   \n",
       "\n",
       "     who  adult_male deck  embark_town alive  alone  \n",
       "0    man        True  NaN  Southampton    no  False  \n",
       "1  woman       False    C    Cherbourg   yes  False  \n",
       "2  woman       False  NaN  Southampton   yes   True  \n",
       "3  woman       False    C  Southampton   yes  False  \n",
       "4    man        True  NaN  Southampton    no   True  "
      ]
     },
     "execution_count": 142,
     "metadata": {},
     "output_type": "execute_result"
    }
   ],
   "source": [
    "# Load Titanic dataset from seaborn and verify\n",
    "titanic = sns.load_dataset(\"titanic\")\n",
    "titanic.head()"
   ]
  },
  {
   "cell_type": "markdown",
   "metadata": {},
   "source": [
    "## Section 2. Data Exploration and Preparation\n",
    "\n",
    "### Load the Titanic dataset and confirm it’s structured correctly"
   ]
  },
  {
   "cell_type": "code",
   "execution_count": 143,
   "metadata": {},
   "outputs": [],
   "source": [
    "# Fill missing 'age' with median\n",
    "titanic['age'] = titanic['age'].fillna(titanic['age'].median())\n",
    "\n",
    "# Fill missing 'sex' with mode before encoding\n",
    "titanic['sex'] = titanic['sex'].fillna(titanic['sex'].mode().iloc[0])\n",
    "titanic['sex'] = titanic['sex'].map({'male': 0, 'female': 1})\n",
    "\n",
    "# Drop rows with missing fare\n",
    "titanic = titanic.dropna(subset=['fare'])\n",
    "\n",
    "# Create family_size\n",
    "titanic['family_size'] = titanic['sibsp'] + titanic['parch'] + 1"
   ]
  },
  {
   "cell_type": "code",
   "execution_count": 145,
   "metadata": {},
   "outputs": [],
   "source": [
    "# Case 1. age only\n",
    "X1 = titanic[['age']]\n",
    "y1 = titanic['fare']\n",
    "\n",
    "# Case 2. family_size only\n",
    "X2 = titanic[['family_size']]\n",
    "y2 = titanic['fare']\n",
    "\n",
    "# Case 3. age and family size\n",
    "X3 = titanic[['age', 'family_size']]\n",
    "y3 = titanic['fare']\n",
    "\n",
    "# Case 4. age, pclass, sex and embarked\n",
    "X4 = titanic[['age', 'pclass', 'sex']]\n",
    "y4 = titanic['fare']"
   ]
  },
  {
   "cell_type": "markdown",
   "metadata": {},
   "source": [
    "## Section 3. Feature Selection and Justification"
   ]
  },
  {
   "cell_type": "markdown",
   "metadata": {},
   "source": [
    "Reflection Questions\n",
    "\n",
    "Why might these features affect a passenger’s fare: \n",
    "    - `age`: Children might have different fares compared to adults\n",
    "    - `family_size`: Families might book together, which could result in reduced passenger fares\n",
    "    - `sex`: Sex could interact with other features such as `family_size` or `embarked`\n",
    "    - `pclass` - This is strongly correlated with fare based on the class that passengers were in\n",
    "List all available features:\n",
    "- `survived`\n",
    "- `pclass`\n",
    "- `sex`\n",
    "- `age`\n",
    "- `sibsp`\n",
    "- `parch`\n",
    "- `fare`\n",
    "- `embarked`\n",
    "- `class`\n",
    "- `who`\n",
    "- `adult_male`\n",
    "- `deck`\n",
    "- `embark_town`\n",
    "- `alive`\n",
    "- `alone`\n",
    "Which other features could improve predictions and why:\n",
    "- `alone`: If a passenger is traveling alone it could lead to different prices within the fare\n",
    "- `ticket`: Possibly the ticket could provide minor details about a passengers fare\n",
    "How many variables are in your Case 4:\n",
    "- 3 variables\n",
    "Which variable(s) did you choose for Case 4 and why do you feel those could make good inputs: \n",
    "- `age`: Children might have different fares compared to adults\n",
    "- `sex`: Sex could interact with other features such as `family_size` or `embarked`\n",
    "- `pclass` - This is strongly correlated with fare based on the class that passengers were in"
   ]
  },
  {
   "cell_type": "markdown",
   "metadata": {},
   "source": [
    "## Section 4. Train a Regression Model (Linear Regression)\n",
    "\n",
    "## 4.1 Split the Data"
   ]
  },
  {
   "cell_type": "code",
   "execution_count": 148,
   "metadata": {},
   "outputs": [],
   "source": [
    "X1_train, X1_test, y1_train, y1_test = train_test_split(X1, y1, test_size=0.2, random_state=123)\n",
    "\n",
    "X2_train, X2_test, y2_train, y2_test = train_test_split(X2, y2, test_size=0.2, random_state=123)\n",
    "\n",
    "X3_train, X3_test, y3_train, y3_test = train_test_split(X3, y3, test_size=0.2, random_state=123)\n",
    "\n",
    "X4_train, X4_test, y4_train, y4_test = train_test_split(X4, y4, test_size=0.2, random_state=123)"
   ]
  },
  {
   "cell_type": "markdown",
   "metadata": {},
   "source": [
    "## 4.2 Train and Evaluate Linear Regression Models (all 4 cases)"
   ]
  },
  {
   "cell_type": "code",
   "execution_count": 150,
   "metadata": {},
   "outputs": [],
   "source": [
    "lr_model1 = LinearRegression().fit(X1_train, y1_train)\n",
    "lr_model2 = LinearRegression().fit(X2_train, y2_train)\n",
    "lr_model3 = LinearRegression().fit(X3_train, y3_train)\n",
    "lr_model4 = LinearRegression().fit(X4_train, y4_train)\n",
    "\n",
    "# Predictions\n",
    "\n",
    "y_pred_train1 = lr_model1.predict(X1_train)\n",
    "y_pred_test1 = lr_model1.predict(X1_test)\n",
    "\n",
    "y_pred_train2 = lr_model2.predict(X2_train)\n",
    "y_pred_test2 = lr_model2.predict(X2_test)\n",
    "\n",
    "y_pred_train3 = lr_model3.predict(X3_train)\n",
    "y_pred_test3 = lr_model3.predict(X3_test)\n",
    "\n",
    "y_pred_train4 = lr_model4.predict(X4_train)\n",
    "y_pred_test4 = lr_model4.predict(X4_test)"
   ]
  },
  {
   "cell_type": "markdown",
   "metadata": {},
   "source": [
    "## 4.3 Report Performance"
   ]
  },
  {
   "cell_type": "code",
   "execution_count": 156,
   "metadata": {},
   "outputs": [
    {
     "name": "stdout",
     "output_type": "stream",
     "text": [
      "Case 1: Training R²: 0.009950688019452314\n",
      "Case 1: Test R²: 0.0034163395508415295\n",
      "Case 1: Test RMSE: 37.97164180172938\n",
      "Case 1: Test MAE: 25.28637293162364\n",
      "Case 2: Training R²: 0.049915792364760736\n",
      "Case 2: Test R²: 0.022231186110131973\n",
      "Case 2: Test RMSE: 37.6114940041967\n",
      "Case 2: Test MAE: 25.02534815941641\n",
      "Case 3: Training R²: 0.07347466201590014\n",
      "Case 3: Test R²: 0.049784832763073106\n",
      "Case 3: Test RMSE: 37.0777586646559\n",
      "Case 3: Test MAE: 24.284935030470688\n",
      "Case 4: Training R²: 0.3151329425803896\n",
      "Case 4: Test R²: 0.35025268636237106\n",
      "Case 4: Test RMSE: 30.66018284544514\n",
      "Case 4: Test MAE: 20.47729671828975\n"
     ]
    }
   ],
   "source": [
    "from sklearn.metrics import r2_score, mean_squared_error, mean_absolute_error\n",
    "\n",
    "print(\"Case 1: Training R²:\", r2_score(y1_train, y_pred_train1))\n",
    "print(\"Case 1: Test R²:\", r2_score(y1_test, y_pred_test1))\n",
    "print(\"Case 1: Test RMSE:\", mean_squared_error(y1_test, y_pred_test1) ** 0.5)\n",
    "print(\"Case 1: Test MAE:\", mean_absolute_error(y1_test, y_pred_test1))\n",
    "\n",
    "print(\"Case 2: Training R²:\", r2_score(y2_train, y_pred_train2))\n",
    "print(\"Case 2: Test R²:\", r2_score(y2_test, y_pred_test2))\n",
    "print(\"Case 2: Test RMSE:\", mean_squared_error(y2_test, y_pred_test2) ** 0.5)\n",
    "print(\"Case 2: Test MAE:\", mean_absolute_error(y2_test, y_pred_test2))\n",
    "\n",
    "print(\"Case 3: Training R²:\", r2_score(y3_train, y_pred_train3))\n",
    "print(\"Case 3: Test R²:\", r2_score(y3_test, y_pred_test3))\n",
    "print(\"Case 3: Test RMSE:\", mean_squared_error(y3_test, y_pred_test3) ** 0.5)\n",
    "print(\"Case 3: Test MAE:\", mean_absolute_error(y3_test, y_pred_test3))\n",
    "\n",
    "print(\"Case 4: Training R²:\", r2_score(y4_train, y_pred_train4))\n",
    "print(\"Case 4: Test R²:\", r2_score(y4_test, y_pred_test4))\n",
    "print(\"Case 4: Test RMSE:\", mean_squared_error(y4_test, y_pred_test4) ** 0.5)\n",
    "print(\"Case 4: Test MAE:\", mean_absolute_error(y4_test, y_pred_test4))"
   ]
  },
  {
   "cell_type": "markdown",
   "metadata": {},
   "source": [
    "### Section 4 Reflection Questions\n",
    "\n",
    "Compare the train vs test results for each.\n",
    "\n",
    "Did Case 1 overfit or underfit? Explain: Underfit meaning age is not predictive of fare.\n",
    "Did Case 2 overfit or underfit? Explain: Underfit, but not as much as case 1. Family_size is not very predictive of fare.\n",
    "Did Case 3 overfit or underfit? Explain: Underfit, another improvement, but still not predictive of fare.\n",
    "Did Case 4 overfit or underfit? Explain: The training R² of 0.32 and Test R² of 0.35 means this was a good fit and not underfit or overfit. These features were highly predictive of fare.\n",
    "\n",
    "Adding Age\n",
    "\n",
    "Did adding age improve the model: Yes, but very slightly. Age on it's own did not improve the model it only improved the model slighly when it was used with other features.\n",
    "Propose a possible explanation (consider how age might affect ticket price, and whether the data supports that): Age is not indictive of fare like some other features are. For example, a 60 year old passenger who is traveling in third class would pay less than a 5 year old passenger in first class.\n",
    "\n",
    "Worst\n",
    "\n",
    "Which case performed the worst: Case 1\n",
    "How do you know: Case 1 had the lowest R² and highest RMSE and MAE.\n",
    "Do you think adding more training data would improve it (and why/why not): Maybe slightly, but honestly not too much. What I gathered from all of this is that age is not a strong predictor of fare.\n",
    "\n",
    "Best\n",
    "\n",
    "Which case performed the best: Case 4\n",
    "How do you know: Case 4 had the highest R² and lowest RMSE and MAE.\n",
    "Do you think adding more training data would improve it (and why/why not): Yes, I think so. The model already ran well with the features selected, but adding another strong feature could improve the model even more so."
   ]
  },
  {
   "cell_type": "markdown",
   "metadata": {},
   "source": [
    "## Section 5. Compare Alternative Models\n",
    "Case 4 was the best model from the previous section so that's what I'll use going forward."
   ]
  },
  {
   "cell_type": "markdown",
   "metadata": {},
   "source": [
    "### 5.1 Ridge Regression (L2 penalty)"
   ]
  },
  {
   "cell_type": "code",
   "execution_count": 168,
   "metadata": {},
   "outputs": [],
   "source": [
    "ridge_model = Ridge(alpha=1.0)\n",
    "ridge_model.fit(X4_train, y4_train)\n",
    "y4_pred_ridge = ridge_model.predict(X4_test)"
   ]
  },
  {
   "cell_type": "markdown",
   "metadata": {},
   "source": [
    "### 5.2 Elastic Net (L1 + L2 combined)"
   ]
  },
  {
   "cell_type": "code",
   "execution_count": 173,
   "metadata": {},
   "outputs": [],
   "source": [
    "elastic_model = ElasticNet(alpha=0.3, l1_ratio=0.5)\n",
    "elastic_model.fit(X4_train, y4_train)\n",
    "y4_pred_elastic = elastic_model.predict(X4_test)"
   ]
  },
  {
   "cell_type": "markdown",
   "metadata": {},
   "source": [
    "### 5.3 Polynomial Regression"
   ]
  },
  {
   "cell_type": "code",
   "execution_count": 174,
   "metadata": {},
   "outputs": [],
   "source": [
    "# Set up the poly inputs\n",
    "poly = PolynomialFeatures(degree=3)\n",
    "X4_train_poly = poly.fit_transform(X4_train)\n",
    "X4_test_poly = poly.transform(X4_test)\n",
    "\n",
    "# Use the poly inputs in the LR model\n",
    "poly_model = LinearRegression()\n",
    "poly_model.fit(X4_train_poly, y4_train)\n",
    "y4_pred_poly = poly_model.predict(X4_test_poly)"
   ]
  },
  {
   "cell_type": "markdown",
   "metadata": {},
   "source": [
    "### 5.4 Visualize Polynomial Cubic Fit (for 1 input feature)"
   ]
  },
  {
   "cell_type": "code",
   "execution_count": 175,
   "metadata": {},
   "outputs": [
    {
     "data": {
      "image/png": "[encoded data removed]",
      "text/plain": [
       "<Figure size 640x480 with 1 Axes>"
      ]
     },
     "metadata": {},
     "output_type": "display_data"
    }
   ],
   "source": [
    "plt.scatter(X1_test, y1_test, color='blue', label='Actual')\n",
    "plt.scatter(X1_test, y_pred_poly, color='red', label='Predicted (Poly)')\n",
    "plt.legend()\n",
    "plt.title(\"Polynomial Regression: Age vs Fare\")\n",
    "plt.show()"
   ]
  },
  {
   "cell_type": "markdown",
   "metadata": {},
   "source": [
    "### 5.4 Reflections\n",
    "What patterns does the cubic model seem to capture: Fare increases slightly as age increases and the fare for middle aged passengers tends to be more spread out\n",
    "Where does it perform well or poorly: The youngest age is where the model performs the best. The model performed poorly where there's outliers near the top in the middle ages.\n",
    "Did the polynomial fit outperform linear regression: Yes\n",
    "Where (on the graph or among which kinds of data points) does it fit best: It fits best in the middle age 20-40 years old"
   ]
  },
  {
   "cell_type": "markdown",
   "metadata": {},
   "source": [
    "### 5.4 Compare All Models"
   ]
  },
  {
   "cell_type": "code",
   "execution_count": 176,
   "metadata": {},
   "outputs": [
    {
     "name": "stdout",
     "output_type": "stream",
     "text": [
      "Linear (Case 4) R²: 0.350\n",
      "Linear (Case 4) RMSE: 30.66\n",
      "Linear (Case 4) MAE: 20.48\n",
      "\n",
      "Ridge (Case 4) R²: 0.351\n",
      "Ridge (Case 4) RMSE: 30.65\n",
      "Ridge (Case 4) MAE: 20.45\n",
      "\n",
      "ElasticNet (Case 4) R²: 0.379\n",
      "ElasticNet (Case 4) RMSE: 29.98\n",
      "ElasticNet (Case 4) MAE: 19.05\n",
      "\n",
      "Polynomial (Case 4) R²: 0.447\n",
      "Polynomial (Case 4) RMSE: 28.29\n",
      "Polynomial (Case 4) MAE: 17.31\n",
      "\n"
     ]
    }
   ],
   "source": [
    "def report(name, y_true, y_pred):\n",
    "    print(f\"{name} R²: {r2_score(y_true, y_pred):.3f}\")\n",
    "    print(f\"{name} RMSE: {mean_squared_error(y_true, y_pred) ** 0.5:.2f}\")\n",
    "    print(f\"{name} MAE: {mean_absolute_error(y_true, y_pred):.2f}\\n\")\n",
    "\n",
    "report(\"Linear (Case 4)\", y4_test, y_pred_test4)\n",
    "report(\"Ridge (Case 4)\", y4_test, y4_pred_ridge)\n",
    "report(\"ElasticNet (Case 4)\", y4_test, y4_pred_elastic)\n",
    "report(\"Polynomial (Case 4)\", y4_test, y4_pred_poly)"
   ]
  },
  {
   "cell_type": "markdown",
   "metadata": {},
   "source": [
    "### 5.5 Visualize Higher Order Polynomial (for the same 1 input case)"
   ]
  },
  {
   "cell_type": "code",
   "execution_count": null,
   "metadata": {},
   "outputs": [
    {
     "data": {
      "image/png": "[encoded data removed]",
      "text/plain": [
       "<Figure size 640x480 with 1 Axes>"
      ]
     },
     "metadata": {},
     "output_type": "display_data"
    }
   ],
   "source": [
    "# Set up the poly inputs\n",
    "poly_high_order = PolynomialFeatures(degree=6)\n",
    "\n",
    "# Extract only sex\n",
    "X4_pclass_train = X4_train[['sex']] \n",
    "X4_pclass_test = X4_test[['sex']]  \n",
    "\n",
    "# Transform the 'pclass' feature using PolynomialFeatures\n",
    "X4_pclass_train_poly = poly_high_order.fit_transform(X4_pclass_train)\n",
    "X4_pclass_test_poly = poly_high_order.transform(X4_pclass_test)\n",
    "\n",
    "# Train Linear Regression Model\n",
    "poly_model_high = LinearRegression()\n",
    "poly_model_high.fit(X4_pclass_train_poly, y4_train)\n",
    "y_pred_poly_high = poly_model_high.predict(X4_pclass_test_poly)\n",
    "\n",
    "# Plot the higher-order polynomial regression fit for 'family_size'\n",
    "plt.scatter(X4_pclass_test, y4_test, color='blue', label='Actual')\n",
    "plt.scatter(X4_pclass_test, y_pred_poly_high, color='green', label='Predicted (Poly 6)')\n",
    "plt.legend()\n",
    "plt.title(\"Higher Order Polynomial Regression: Sex vs Fare (Degree 6)\")\n",
    "plt.xlabel(\"Sex\")\n",
    "plt.ylabel(\"Fare\")\n",
    "plt.show()"
   ]
  },
  {
   "cell_type": "markdown",
   "metadata": {},
   "source": [
    "My initial cubic (3) model performed better than my higher degree polynomial (6) model. The `sex` model only had two results to choose from (male vs female) so the the model basically returned a group average of the two whereas the `age` model had more options to choose from and this was reflected in the model results."
   ]
  },
  {
   "cell_type": "markdown",
   "metadata": {},
   "source": [
    "## Section 6. Final Thoughts & Insights\n",
    "\n",
    "### 6.1 Summarize Findings\n",
    "\n",
    "What features were most useful?\n",
    "- The features that I used were `pclass`, `sex`, `family_size`, and `age`. By far the most predictive feature of fare that I used was `pclass`. All of the other features helped moderately and needed to be combined with other features to help predict fare.\n",
    "\n",
    "What regression model performed best?\n",
    "- The Ridge Regression model performed the best overall followed by the Linear Regression model.\n",
    "\n",
    "How did model complexity or regularization affect results?\n",
    "- Model complexity had a large effect on results. Increased complexity or adding more features to the model can lead to overfitting if the features are noisy. Regularization was introduced in my Ridge Regression model and that model performed the best from the models used. The regularization helped stabilize and improve generalization within the model."
   ]
  },
  {
   "cell_type": "markdown",
   "metadata": {},
   "source": [
    "### 6.2 Discuss Challenges Faced\n",
    "\n",
    "Was fare hard to predict? Why?\n",
    "- Yes, fare was hard to predict especially only using the couple features that were used in this project. Fare is influenced by several different features, many of which were not used in the models, which limited performance. Some of the features that were used `pclass`, `sex`, and `fare` are not always linear so polynomial regression was introduced to try and combat this, however, `sex` and `pclass` do not benefit much from polynomial complexity.\n",
    "\n",
    "Did skew or outliers impact the models?\n",
    "- Yes, both impacted the models. The fare distribution is heavily right skewed resulting in outliers that inflated the error metrics and reduced model accuracy."
   ]
  }
 ],
 "metadata": {
  "kernelspec": {
   "display_name": ".venv",
   "language": "python",
   "name": "python3"
  },
  "language_info": {
   "codemirror_mode": {
    "name": "ipython",
    "version": 3
   },
   "file_extension": ".py",
   "mimetype": "text/x-python",
   "name": "python",
   "nbconvert_exporter": "python",
   "pygments_lexer": "ipython3",
   "version": "3.12.2"
  }
 },
 "nbformat": 4,
 "nbformat_minor": 2
}
